{
 "cells": [
  {
   "cell_type": "markdown",
   "id": "f2b32f5d",
   "metadata": {},
   "source": []
  }
 ],
 "metadata": {
  "language_info": {
   "name": "python"
  }
 },
 "nbformat": 4,
 "nbformat_minor": 5
}
